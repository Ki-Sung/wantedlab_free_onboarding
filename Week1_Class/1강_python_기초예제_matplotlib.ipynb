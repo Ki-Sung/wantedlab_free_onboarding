{
 "cells": [
  {
   "cell_type": "markdown",
   "metadata": {},
   "source": [
    "# 1강 - 파이썬(Python) 기초 & Matplotlib"
   ]
  },
  {
   "cell_type": "markdown",
   "metadata": {},
   "source": [
    "**작성자 : AISchool(http://aischool.ai/)*"
   ]
  },
  {
   "cell_type": "markdown",
   "metadata": {},
   "source": [
    "# 실습 1 – 기본 자료형과 기본 연산자, 주석을 직접 따라치면서 실습해봅시다!"
   ]
  },
  {
   "cell_type": "markdown",
   "metadata": {},
   "source": [
    "# 기본 자료형(int, float, str, bool) 살펴보기"
   ]
  },
  {
   "cell_type": "raw",
   "metadata": {},
   "source": [
    "삼성전자_주가 = 52000\n",
    "type(삼성전자_주가)"
   ]
  },
  {
   "cell_type": "code",
   "execution_count": 23,
   "metadata": {},
   "outputs": [
    {
     "name": "stdout",
     "output_type": "stream",
     "text": [
      "<class 'int'> 52000\n"
     ]
    }
   ],
   "source": [
    "삼성전자_주가 = 52000\n",
    "print(type(삼성전자_주가), 삼성전자_주가)"
   ]
  },
  {
   "cell_type": "raw",
   "metadata": {},
   "source": [
    "캠페인_집행횟수 = 32000\n",
    "type(캠페인_집행횟수)"
   ]
  },
  {
   "cell_type": "code",
   "execution_count": 24,
   "metadata": {},
   "outputs": [
    {
     "name": "stdout",
     "output_type": "stream",
     "text": [
      "<class 'int'> 32000\n"
     ]
    }
   ],
   "source": [
    "캠페인_집행횟수 = 32000\n",
    "print(type(캠페인_집행횟수), 캠페인_집행횟수)"
   ]
  },
  {
   "cell_type": "raw",
   "metadata": {},
   "source": [
    "주가_상승률 = 2.5\n",
    "type(주가_상승률)"
   ]
  },
  {
   "cell_type": "code",
   "execution_count": 25,
   "metadata": {},
   "outputs": [
    {
     "name": "stdout",
     "output_type": "stream",
     "text": [
      "<class 'float'> 2.5\n"
     ]
    }
   ],
   "source": [
    "주가_상승률 = 2.5\n",
    "print(type(주가_상승률), 주가_상승률)"
   ]
  },
  {
   "cell_type": "raw",
   "metadata": {},
   "source": [
    "캠페인_전환률 = 5.8\n",
    "type(캠페인_전환률)"
   ]
  },
  {
   "cell_type": "code",
   "execution_count": 26,
   "metadata": {},
   "outputs": [
    {
     "name": "stdout",
     "output_type": "stream",
     "text": [
      "<class 'float'> 5.8\n"
     ]
    }
   ],
   "source": [
    "캠페인_전환률 = 5.8\n",
    "print(type(캠페인_전환률), 캠페인_전환률)"
   ]
  },
  {
   "cell_type": "raw",
   "metadata": {},
   "source": [
    "종목명 = '삼성전자'\n",
    "type(종목명)"
   ]
  },
  {
   "cell_type": "code",
   "execution_count": 27,
   "metadata": {},
   "outputs": [
    {
     "name": "stdout",
     "output_type": "stream",
     "text": [
      "<class 'str'> 삼성전자\n"
     ]
    }
   ],
   "source": [
    "종목명 = '삼성전자'\n",
    "print(type(종목명), 종목명)"
   ]
  },
  {
   "cell_type": "raw",
   "metadata": {},
   "source": [
    "캠페인_이름 = '신규강의_전환율최대화'\n",
    "type(캠페인_이름)"
   ]
  },
  {
   "cell_type": "code",
   "execution_count": 28,
   "metadata": {},
   "outputs": [
    {
     "name": "stdout",
     "output_type": "stream",
     "text": [
      "<class 'str'> 신규강의_전환율최대화\n"
     ]
    }
   ],
   "source": [
    "캠페인_이름 = '신규강의_전환율최대화'\n",
    "print(type(캠페인_이름), 캠페인_이름)"
   ]
  },
  {
   "cell_type": "raw",
   "metadata": {},
   "source": [
    "매도_타이밍_유무 = True\n",
    "type(매도_타이밍_유무)"
   ]
  },
  {
   "cell_type": "code",
   "execution_count": 31,
   "metadata": {},
   "outputs": [
    {
     "name": "stdout",
     "output_type": "stream",
     "text": [
      "<class 'bool'> True\n"
     ]
    }
   ],
   "source": [
    "매도_타이밍_유무 = True\n",
    "print(type(매도_타이밍_유무), 매도_타이밍_유무)"
   ]
  },
  {
   "cell_type": "raw",
   "metadata": {},
   "source": [
    "마케팅_예산_증액_유무 = False\n",
    "type(마케팅_예산_증액_유무)"
   ]
  },
  {
   "cell_type": "code",
   "execution_count": 32,
   "metadata": {},
   "outputs": [
    {
     "name": "stdout",
     "output_type": "stream",
     "text": [
      "<class 'bool'> False\n"
     ]
    }
   ],
   "source": [
    "마케팅_예산_증액_유무 = False\n",
    "print(type(마케팅_예산_증액_유무), 마케팅_예산_증액_유무)"
   ]
  },
  {
   "cell_type": "markdown",
   "metadata": {},
   "source": [
    "# 기본 연산자(+,-,*,/) 살펴보기"
   ]
  },
  {
   "cell_type": "raw",
   "metadata": {},
   "source": [
    "삼성전자_주가 = 52000\n",
    "내일의_삼성전자_주가 = 삼성전자_주가 + 3500\n",
    "print(내일의_삼성전자_주가)"
   ]
  },
  {
   "cell_type": "code",
   "execution_count": 9,
   "metadata": {},
   "outputs": [
    {
     "name": "stdout",
     "output_type": "stream",
     "text": [
      "55500\n"
     ]
    }
   ],
   "source": [
    "삼성전자_주가 = 52000\n",
    "내일의_삼성전자_주가 = 삼성전자_주가 + 3500\n",
    "print(내일의_삼성전자_주가)"
   ]
  },
  {
   "cell_type": "raw",
   "metadata": {
    "scrolled": false
   },
   "source": [
    "보유현금 = 100000\n",
    "삼성전자_1주_구매후_보유현금 = 100000 - 삼성전자_주가\n",
    "print(삼성전자_1주_구매후_보유현금)"
   ]
  },
  {
   "cell_type": "code",
   "execution_count": 10,
   "metadata": {},
   "outputs": [
    {
     "name": "stdout",
     "output_type": "stream",
     "text": [
      "48000\n"
     ]
    }
   ],
   "source": [
    "보유현금 = 100000\n",
    "삼성전자_1주_구매후_보유현금 = 100000 - 삼성전자_주가\n",
    "print(삼성전자_1주_구매후_보유현금)"
   ]
  },
  {
   "cell_type": "raw",
   "metadata": {},
   "source": [
    "초기_자산 = 100000\n",
    "투자수익률 = 1.20\n",
    "투자후_자산 = 초기_자산 * 투자수익률\n",
    "print(투자후_자산)"
   ]
  },
  {
   "cell_type": "code",
   "execution_count": 11,
   "metadata": {},
   "outputs": [
    {
     "name": "stdout",
     "output_type": "stream",
     "text": [
      "120000.0\n"
     ]
    }
   ],
   "source": [
    "초기_자산 = 100000\n",
    "투자수익률 = 1.20\n",
    "투자후_자산 = 초기_자산 * 투자수익률\n",
    "print(투자후_자산)"
   ]
  },
  {
   "cell_type": "raw",
   "metadata": {},
   "source": [
    "초기_자산 = 200000\n",
    "# 삼성전자 주가 : 52000원\n",
    "구매가능한_삼성전자_주식수 = 초기_자산 / 삼성전자_주가\n",
    "print(구매가능한_삼성전자_주식수)\n",
    "print(int(구매가능한_삼성전자_주식수))"
   ]
  },
  {
   "cell_type": "code",
   "execution_count": 29,
   "metadata": {},
   "outputs": [
    {
     "name": "stdout",
     "output_type": "stream",
     "text": [
      "3.8461538461538463\n",
      "3\n"
     ]
    }
   ],
   "source": [
    "초기_자산 = 200000\n",
    "# 삼선전자 주가: 52000원\n",
    "구매가능한_삼성전자_주식수 = 초기_자산 / 삼성전자_주가\n",
    "print(구매가능한_삼성전자_주식수) # float형으로 결과 출력\n",
    "print(int(구매가능한_삼성전자_주식수)) # 정수형으로 반환"
   ]
  },
  {
   "cell_type": "raw",
   "metadata": {},
   "source": [
    "전체고객수 = 100\n",
    "고객_세그먼트_묶음 = 16\n",
    "나머지_고객수 = 전체고객수 % 고객_세그먼트_묶음 # 100 % 16\n",
    "print(나머지_고객수)"
   ]
  },
  {
   "cell_type": "code",
   "execution_count": 38,
   "metadata": {},
   "outputs": [
    {
     "name": "stdout",
     "output_type": "stream",
     "text": [
      "4\n"
     ]
    }
   ],
   "source": [
    "전체고객수 = 100\n",
    "고객_세그먼트_묶음 = 16\n",
    "나머지_고객수 = 전체고객수 % 고객_세그먼트_묶음 #100 % 16 \n",
    "print(나머지_고객수) # 100과 16을 나눈 나머지 수를 출력"
   ]
  },
  {
   "cell_type": "markdown",
   "metadata": {},
   "source": [
    "# 기본 연산자(>,>=,<,<=) 살펴보기"
   ]
  },
  {
   "cell_type": "raw",
   "metadata": {},
   "source": [
    "목표매도가 = 53000\n",
    "현재주가 = 55000\n",
    "매도_유무 = 현재주가 > 목표매도가\n",
    "print(매도_유무)"
   ]
  },
  {
   "cell_type": "code",
   "execution_count": 39,
   "metadata": {},
   "outputs": [
    {
     "name": "stdout",
     "output_type": "stream",
     "text": [
      "True\n"
     ]
    }
   ],
   "source": [
    "목표매도가 = 53000\n",
    "현재주가 = 55000\n",
    "매도_유무 = 현재주가 > 목표매도가\n",
    "print(매도_유무)"
   ]
  },
  {
   "cell_type": "raw",
   "metadata": {},
   "source": [
    "목표매수가 = 52000\n",
    "현재주가 = 55000\n",
    "매수_유무 = 현재주가 <= 목표매수가\n",
    "print(매수_유무)"
   ]
  },
  {
   "cell_type": "code",
   "execution_count": 40,
   "metadata": {},
   "outputs": [
    {
     "name": "stdout",
     "output_type": "stream",
     "text": [
      "False\n"
     ]
    }
   ],
   "source": [
    "목표매수가 = 52000\n",
    "현재주가 = 55000\n",
    "매수_유무 = 현재주가 <= 목표매수가\n",
    "print(매수_유무)"
   ]
  },
  {
   "cell_type": "markdown",
   "metadata": {},
   "source": [
    "# 주석(Comment)"
   ]
  },
  {
   "cell_type": "raw",
   "metadata": {},
   "source": [
    "# 한줄 주석 - 주석 부분에 설명을 작성할 수 있습니다. 아래 변수는 현재 주가의 가격을 나타냅니다.\n",
    "현재_주가 = 5000"
   ]
  },
  {
   "cell_type": "code",
   "execution_count": 41,
   "metadata": {},
   "outputs": [
    {
     "name": "stdout",
     "output_type": "stream",
     "text": [
      "5000\n"
     ]
    }
   ],
   "source": [
    "# 한줄 주석 - 주석 부분에 설명을 작성할 수 있습니다. 아래 변수는 현재 주가의 가격을 나타냅니다.\n",
    "현재_주가 = 5000\n",
    "print(현재_주가)"
   ]
  },
  {
   "cell_type": "raw",
   "metadata": {},
   "source": [
    "'''\n",
    "여러줄 주석\n",
    "이런 형태로 여러줄 주석을 작성할 수 있습니다.\n",
    "아래 변수는 캠페인 전환율을 나타냅니다.\n",
    "'''\n",
    "캠페인_전환율 = 3.5"
   ]
  },
  {
   "cell_type": "code",
   "execution_count": 34,
   "metadata": {},
   "outputs": [
    {
     "name": "stdout",
     "output_type": "stream",
     "text": [
      "3.5\n"
     ]
    }
   ],
   "source": [
    "'''\n",
    "여러줄 주석\n",
    "이런 형태로 여러줄 주석을 작성할 수 있습니다.\n",
    "아래 변수는 캠페인 전환율을 나타냅니다.\n",
    "'''\n",
    "캠페인_전환율 = 3.5\n",
    "print(캠페인_전환율)"
   ]
  },
  {
   "cell_type": "code",
   "execution_count": 37,
   "metadata": {},
   "outputs": [
    {
     "name": "stdout",
     "output_type": "stream",
     "text": [
      "여러줄 주석 \n",
      "이런 형태로 여려줄 주석을 작성할 수 있습니다. \n",
      "아래 변수는 캠페인 전환율을 나타냅니다.\n",
      "\n"
     ]
    }
   ],
   "source": [
    "data = \"\"\"여러줄 주석 \n",
    "이런 형태로 여려줄 주석을 작성할 수 있습니다. \n",
    "아래 변수는 캠페인 전환율을 나타냅니다.\n",
    "\"\"\"\n",
    "print(data)"
   ]
  },
  {
   "cell_type": "markdown",
   "metadata": {},
   "source": [
    "# 실습 1 - 응용문제 1번 - 사과, 바나나 구매후 총예산 변화"
   ]
  },
  {
   "cell_type": "markdown",
   "metadata": {},
   "source": [
    "1. 50000의 값을 가진 **총예산** 변수를 생성합니다.\n",
    "2. 3000원의 가격을 가진 **사과** 변수를 생성합니다.\n",
    "3. 2000원의 가격을 가진 **바나나** 변수를 생성합니다.\n",
    "4. **3개의 사과와 2개의 바나나**를 구매하는 상황을 가정해서 총예산 변수에서 3개의 사과, 2개의 바나나를 구매한만큼을 뻅니다.\n",
    "5. 구매후 남은 **총예산** 변수의값을 print 문으로 출력합니다."
   ]
  },
  {
   "cell_type": "code",
   "execution_count": 18,
   "metadata": {},
   "outputs": [
    {
     "data": {
      "text/plain": [
       "37000"
      ]
     },
     "execution_count": 18,
     "metadata": {},
     "output_type": "execute_result"
    }
   ],
   "source": [
    "# 위 과정을 직접 코딩으로 작성해봅시다!\n",
    "총예산 = 50000\n",
    "사과 = 3000\n",
    "바나나 = 2000\n",
    "총예산 = 총예산 - (사과*3 + 바나나*2)\n",
    "총예산"
   ]
  },
  {
   "cell_type": "markdown",
   "metadata": {},
   "source": [
    "# 실습 1 - 응용문제 2번 - 복리와 단리의 차이를 계산해봅니다."
   ]
  },
  {
   "cell_type": "markdown",
   "metadata": {},
   "source": [
    "1. 1000000.0의 값을 가진 **초기_투자금** 변수를 생성합니다.\n",
    "2. **초기_투자금** 변수에 1.2(20% 수익률)를 5번 곱한 **복리_투자결과** 변수를 생성합니다.\n",
    "3. **초기_투자금** 변수에 200000(20만원)을 5번 더한 **단리_투자결과** 변수를 생성합니다.\n",
    "4. **복리_투자결과**에서 **단리_투자결과** 변수를 뺀 값을 print문으로 출력해봅니다."
   ]
  },
  {
   "cell_type": "code",
   "execution_count": 58,
   "metadata": {},
   "outputs": [
    {
     "name": "stdout",
     "output_type": "stream",
     "text": [
      "488320.0\n"
     ]
    }
   ],
   "source": [
    "# 위 과정을 직접 코딩으로 작성해봅시다!\n",
    "초기_투자금 = 1000000.0\n",
    "복리_투자결과 = 초기_투자금*1.2*1.2*1.2*1.2*1.2\n",
    "단리_투자결과 = 초기_투자금+200000+200000+200000+200000+200000\n",
    "print(복리_투자결과 - 단리_투자결과)"
   ]
  },
  {
   "cell_type": "markdown",
   "metadata": {},
   "source": [
    "# 실습 2 – 리스트(list)와 for 반복문을 직접 따라치면서 실습해봅시다!"
   ]
  },
  {
   "cell_type": "markdown",
   "metadata": {},
   "source": [
    "# 리스트(list)"
   ]
  },
  {
   "cell_type": "raw",
   "metadata": {},
   "source": [
    "리스트_1 = []\n",
    "리스트_2 = list()"
   ]
  },
  {
   "cell_type": "code",
   "execution_count": 20,
   "metadata": {},
   "outputs": [],
   "source": [
    "리스트_1 = []\n",
    "리스트_2 = list()"
   ]
  },
  {
   "cell_type": "raw",
   "metadata": {},
   "source": [
    "리스트_1.append('100')\n",
    "리스트_2.append('a')\n",
    "리스트_2.insert(0,'before_a')\n",
    "print(리스트_1)\n",
    "print(리스트_2)"
   ]
  },
  {
   "cell_type": "code",
   "execution_count": 21,
   "metadata": {},
   "outputs": [
    {
     "name": "stdout",
     "output_type": "stream",
     "text": [
      "['100']\n",
      "['before_a', 'a']\n"
     ]
    }
   ],
   "source": [
    "리스트_1.append('100')\n",
    "리스트_2.append('a')\n",
    "리스트_2.insert(0,'before_a')\n",
    "print(리스트_1)\n",
    "print(리스트_2)"
   ]
  },
  {
   "cell_type": "raw",
   "metadata": {},
   "source": [
    "리스트_1.append('200')\n",
    "리스트_1.append('300')\n",
    "print(리스트_1)\n",
    "print(리스트_1[2])"
   ]
  },
  {
   "cell_type": "code",
   "execution_count": 22,
   "metadata": {},
   "outputs": [
    {
     "name": "stdout",
     "output_type": "stream",
     "text": [
      "['100', '200', '300']\n",
      "300\n"
     ]
    }
   ],
   "source": [
    "리스트_1.append('200')\n",
    "리스트_1.append('300')\n",
    "print(리스트_1)\n",
    "print(리스트_1[2])"
   ]
  },
  {
   "cell_type": "raw",
   "metadata": {},
   "source": [
    "리스트_1.remove('100')\n",
    "print(리스트_1)"
   ]
  },
  {
   "cell_type": "code",
   "execution_count": 23,
   "metadata": {},
   "outputs": [
    {
     "name": "stdout",
     "output_type": "stream",
     "text": [
      "['200', '300']\n"
     ]
    }
   ],
   "source": [
    "# 리스트 삭제\n",
    "리스트_1.remove('100')\n",
    "print(리스트_1)"
   ]
  },
  {
   "cell_type": "markdown",
   "metadata": {},
   "source": [
    "# Python for 반복문"
   ]
  },
  {
   "cell_type": "raw",
   "metadata": {
    "scrolled": true
   },
   "source": [
    "for i in range(0, 5):\n",
    "    print('안녕하세요!')"
   ]
  },
  {
   "cell_type": "code",
   "execution_count": 47,
   "metadata": {},
   "outputs": [
    {
     "name": "stdout",
     "output_type": "stream",
     "text": [
      "안녕하세요!\n",
      "안녕하세요!\n",
      "안녕하세요!\n",
      "안녕하세요!\n",
      "안녕하세요!\n"
     ]
    }
   ],
   "source": [
    "for i in range(0, 5):\n",
    "    print('안녕하세요!')"
   ]
  },
  {
   "cell_type": "raw",
   "metadata": {},
   "source": [
    "for i in range(0, 5):\n",
    "    print('인덱스 :', i)"
   ]
  },
  {
   "cell_type": "code",
   "execution_count": 25,
   "metadata": {},
   "outputs": [
    {
     "name": "stdout",
     "output_type": "stream",
     "text": [
      "인덱스:  0\n",
      "인덱스:  1\n",
      "인덱스:  2\n",
      "인덱스:  3\n",
      "인덱스:  4\n"
     ]
    }
   ],
   "source": [
    "for i in range(0, 5):\n",
    "    print('인덱스: ', i)"
   ]
  },
  {
   "cell_type": "raw",
   "metadata": {},
   "source": [
    "삼성전자_주가_리스트 = [57800, 58200, 59000, 58700, 58000]\n",
    "print(삼성전자_주가_리스트)\n",
    "\n",
    "i = 1\n",
    "\n",
    "for 주가 in 삼성전자_주가_리스트:\n",
    "    print(i, 주가)\n",
    "    i += 1"
   ]
  },
  {
   "cell_type": "code",
   "execution_count": 27,
   "metadata": {},
   "outputs": [
    {
     "name": "stdout",
     "output_type": "stream",
     "text": [
      "[57800, 58200, 59000, 58700, 58000]\n",
      "1 57800\n",
      "2 58200\n",
      "3 59000\n",
      "4 58700\n",
      "5 58000\n"
     ]
    }
   ],
   "source": [
    "삼성전자_주가_리스트 = [57800, 58200, 59000, 58700, 58000] # 주가리스트 \n",
    "print(삼성전자_주가_리스트) # 출력\n",
    "\n",
    "i = 1 # i 라는 변수에 1을 지정\n",
    "\n",
    "for 주가 in 삼성전자_주가_리스트:  # 주가라는 변수 안에 반복문을 써서 삼성전자 주가 리스트를 추가\n",
    "    print(i, 주가)   # 아까 지정한 1과 삼성전자 주가 리스리스트 출력 \n",
    "    i += 1  # 번호 순서를 출력해야 하지만 그냥 출력하면 1만 출력 번호 순서를 출력하기 위해 1을 계속해서 더해줌."
   ]
  },
  {
   "cell_type": "raw",
   "metadata": {},
   "source": [
    "# 변수에 값 복사한뒤 계속해서 더하기\n",
    "초기_수강생 = 100\n",
    "누적_수강생 = 초기_수강생\n",
    "진행기수 = 10\n",
    "# 기수마다 20명씩 수강한다고 가정\n",
    "for i in range(0, 진행기수):\n",
    "    누적_수강생 = 누적_수강생 + 20\n",
    "print(누적_수강생)"
   ]
  },
  {
   "cell_type": "code",
   "execution_count": 50,
   "metadata": {},
   "outputs": [
    {
     "name": "stdout",
     "output_type": "stream",
     "text": [
      "300\n"
     ]
    }
   ],
   "source": [
    "# 변수에 값 복사한뒤 계속해서 더하기\n",
    "초기_수강생 = 100\n",
    "누적_수강생 = 초기_수강생\n",
    "진행기수 = 10\n",
    "\n",
    "# 기수마다 20명씩 수강한다고 가정\n",
    "for i in range(0, 진행기수):\n",
    "    누적_수강생 = 누적_수강생 + 20\n",
    "print(누적_수강생)"
   ]
  },
  {
   "cell_type": "code",
   "execution_count": null,
   "metadata": {},
   "outputs": [],
   "source": []
  },
  {
   "cell_type": "markdown",
   "metadata": {},
   "source": [
    "# 실습 2 - 응용문제 1번 - 리스트에 값 넣고 삭제해보기"
   ]
  },
  {
   "cell_type": "markdown",
   "metadata": {},
   "source": [
    "1. **과일_바구니**라는 이름을 가진 비어있는(Empty) 리스트를 생성합니다.\n",
    "2. **과일_바구니** 리스트에 **'사과', '바나나', '딸기', '키위'**라는 값을 추가합니다.\n",
    "3. **과일_바구니** 리스트의 현재 상태를 print문으로 출력해봅니다.\n",
    "4. **과일_바구니** 리스트에서 **'바나나'**를 제거해봅니다.\n",
    "5. **과일_바구니** 리스트에서 **'오렌지'**라는 값을 추가해봅니다.\n",
    "6. **과일_바구니** 리스트의 현재 상태를 print문으로 출력해봅니다."
   ]
  },
  {
   "cell_type": "code",
   "execution_count": 54,
   "metadata": {},
   "outputs": [
    {
     "name": "stdout",
     "output_type": "stream",
     "text": [
      "['사과', '바나나', '딸기', '키위']\n"
     ]
    }
   ],
   "source": [
    "# 위 과정을 직접 코딩으로 작성해봅시다!\n",
    "과일_바구니 = []\n",
    "과일_바구니.append(\"사과\")\n",
    "과일_바구니.append(\"바나나\")\n",
    "과일_바구니.append(\"딸기\")\n",
    "과일_바구니.append(\"키위\")\n",
    "print(과일_바구니)"
   ]
  },
  {
   "cell_type": "code",
   "execution_count": 55,
   "metadata": {},
   "outputs": [
    {
     "name": "stdout",
     "output_type": "stream",
     "text": [
      "['사과', '딸기', '키위', '오렌지']\n"
     ]
    }
   ],
   "source": [
    "과일_바구니.remove(\"바나나\")\n",
    "과일_바구니.append(\"오렌지\")\n",
    "print(과일_바구니)"
   ]
  },
  {
   "cell_type": "markdown",
   "metadata": {},
   "source": [
    "# 실습 2 - 응용문제 2번 - 복리와 단리의 차이를 for 반복문으로 계산해봅니다."
   ]
  },
  {
   "cell_type": "markdown",
   "metadata": {},
   "source": [
    "1. 1000000.0의 값을 가진 **초기_투자금** 변수를 생성합니다.\n",
    "2. **복리_투자결과** 변수를 만들고 **초기_투자금** 변수의 값을 복사합니다.\n",
    "3. **단리_투자결과** 변수를 만들고 **초기_투자금** 변수의 값을 복사합니다.\n",
    "2. **복리_투자결과** 변수에 for 반복문을 이용해서 1.2(20% 수익률)를 5번 곱합니다.\n",
    "3. **단리_투자결과** 변수에 for 반복문을 200000(20만원)을 5번 더합니다.\n",
    "4. **복리_투자결과** 변수에서 **단리_투자결과** 변수를 뺀 값을 print문으로 출력해봅니다."
   ]
  },
  {
   "cell_type": "code",
   "execution_count": 7,
   "metadata": {},
   "outputs": [
    {
     "name": "stdout",
     "output_type": "stream",
     "text": [
      "488320.0\n"
     ]
    }
   ],
   "source": [
    "# 위 과정을 직접 코딩으로 작성해봅시다!\n",
    "초기_투자금 = 1000000.0\n",
    "복리_투자결과 = 초기_투자금\n",
    "단리_투자결과 = 초기_투자금 \n",
    "\n",
    "for i in range(0, 5):\n",
    "    복리_투자결과 = 복리_투자결과 * 1.2\n",
    "    단리_투자결과 = 단리_투자결과 + 200000\n",
    "print(복리_투자결과 - 단리_투자결과)"
   ]
  },
  {
   "cell_type": "markdown",
   "metadata": {},
   "source": [
    "# 실습 3 – Matplotlib을 직접 따라치면서 실습해봅시다!"
   ]
  },
  {
   "cell_type": "markdown",
   "metadata": {},
   "source": [
    "# Matplotlib 기본 사용법"
   ]
  },
  {
   "cell_type": "raw",
   "metadata": {},
   "source": [
    "from matplotlib import pyplot as plt\n",
    "# 한글 폰트 설정\n",
    "plt.rcParams['font.family'] = 'Malgun Gothic' # Windows용\n",
    "#plt.rcParams['font.family'] = 'AppleGothic' # Mac용\n",
    "%matplotlib inline"
   ]
  },
  {
   "cell_type": "code",
   "execution_count": 8,
   "metadata": {},
   "outputs": [],
   "source": [
    "from matplotlib import pyplot as plt\n",
    "# 한글 폰트 설정 \n",
    "plt.rcParams['font.family'] = 'AppleGothic' # Mac 용\n",
    "%matplotlib inline"
   ]
  },
  {
   "cell_type": "raw",
   "metadata": {},
   "source": [
    "# 현재자동차 20일간 주가 변화\n",
    "# X축 : 날짜\n",
    "날짜_리스트 = [\n",
    "          '2018-06-01',\n",
    "          '2018-06-04',\n",
    "          '2018-06-05', \n",
    "          '2018-06-07',\n",
    "          '2018-06-08',\n",
    "          '2018-06-11',\n",
    "          '2018-06-12',\n",
    "          '2018-06-14',\n",
    "          '2018-06-15',\n",
    "          '2018-06-18',\n",
    "          '2018-06-19',\n",
    "          '2018-06-20',\n",
    "          '2018-06-21',\n",
    "          '2018-06-22',\n",
    "          '2018-06-25',\n",
    "          '2018-06-26',\n",
    "          '2018-06-27',\n",
    "          '2018-06-28',\n",
    "          '2018-06-29',\n",
    "          '2018-07-02'\n",
    "         ]"
   ]
  },
  {
   "cell_type": "code",
   "execution_count": 9,
   "metadata": {},
   "outputs": [],
   "source": [
    "# 현재자동차 20일간 주가 변화\n",
    "# X축 : 날짜\n",
    "날짜_리스트 = [\n",
    "          '2018-06-01',\n",
    "          '2018-06-04',\n",
    "          '2018-06-05', \n",
    "          '2018-06-07',\n",
    "          '2018-06-08',\n",
    "          '2018-06-11',\n",
    "          '2018-06-12',\n",
    "          '2018-06-14',\n",
    "          '2018-06-15',\n",
    "          '2018-06-18',\n",
    "          '2018-06-19',\n",
    "          '2018-06-20',\n",
    "          '2018-06-21',\n",
    "          '2018-06-22',\n",
    "          '2018-06-25',\n",
    "          '2018-06-26',\n",
    "          '2018-06-27',\n",
    "          '2018-06-28',\n",
    "          '2018-06-29',\n",
    "          '2018-07-02'\n",
    "         ]"
   ]
  },
  {
   "cell_type": "raw",
   "metadata": {},
   "source": [
    "# Y축 : 날짜별 주가\n",
    "날짜별_주가_리스트 = [\n",
    "              '140000',\n",
    "              '143000',\n",
    "              '142500',\n",
    "              '142500',\n",
    "              '141000',\n",
    "              '139500',\n",
    "              '140500',\n",
    "              '135000',\n",
    "              '134000',\n",
    "              '135000',\n",
    "              '131500',\n",
    "              '129500',\n",
    "              '127000',\n",
    "              '130000',\n",
    "              '129000',\n",
    "              '129500',\n",
    "              '127500',\n",
    "              '125000',\n",
    "              '125500',\n",
    "              '123500'\n",
    "             ]"
   ]
  },
  {
   "cell_type": "code",
   "execution_count": 10,
   "metadata": {},
   "outputs": [],
   "source": [
    "# Y축 : 날짜별 주가\n",
    "날짜별_주가_리스트 = [\n",
    "              '140000',\n",
    "              '143000',\n",
    "              '142500',\n",
    "              '142500',\n",
    "              '141000',\n",
    "              '139500',\n",
    "              '140500',\n",
    "              '135000',\n",
    "              '134000',\n",
    "              '135000',\n",
    "              '131500',\n",
    "              '129500',\n",
    "              '127000',\n",
    "              '130000',\n",
    "              '129000',\n",
    "              '129500',\n",
    "              '127500',\n",
    "              '125000',\n",
    "              '125500',\n",
    "              '123500'\n",
    "             ]"
   ]
  },
  {
   "cell_type": "raw",
   "metadata": {},
   "source": [
    "plt.figure(figsize=(25, 5))\n",
    "plt.title('현대 자동차 20일간 주가 변화')\n",
    "plt.plot(날짜_리스트, 날짜별_주가_리스트, label='주식가격')\n",
    "plt.legend() # 범례 설정\n",
    "\n",
    "plt.show() # 그래프 출력"
   ]
  },
  {
   "cell_type": "code",
   "execution_count": 11,
   "metadata": {},
   "outputs": [
    {
     "data": {
      "image/png": "[encoded data removed]",
      "text/plain": [
       "<Figure size 1800x360 with 1 Axes>"
      ]
     },
     "metadata": {
      "image/png": {
       "height": 321,
       "width": 1463
      },
      "needs_background": "light"
     },
     "output_type": "display_data"
    }
   ],
   "source": [
    "# 현대 자동차 20일간 주가 변화 그래프로 나타내기\n",
    "plt.figure(figsize=(25, 5))\n",
    "plt.title('현대 자동차 20일간 주가 변화')\n",
    "plt.plot(날짜_리스트, 날짜별_주가_리스트, label='주식가격')\n",
    "plt.legend() # 범례 설정 \n",
    "\n",
    "plt.show() # 그래프 출력 "
   ]
  },
  {
   "cell_type": "raw",
   "metadata": {},
   "source": [
    "import matplotlib.pyplot as plt\n",
    "import numpy as np\n",
    "\n",
    "X축_레이블 = ['광고1_클릭횟수', '광고2_클릭횟수', '광고3_클릭횟수', '광고4_클릭횟수', '광고5_클릭횟수']\n",
    "광고별_남성_클릭횟수 = [20, 34, 30, 35, 27]\n",
    "광고별_여성_클릭횟수 = [25, 32, 34, 20, 25]"
   ]
  },
  {
   "cell_type": "code",
   "execution_count": 13,
   "metadata": {},
   "outputs": [],
   "source": [
    "import matplotlib.pyplot as plt\n",
    "import numpy as np\n",
    "\n",
    "x축_레이블 = ['광고1_클릭횟수', '광고2_클릭횟수', '광고3_클릭횟수', '광고4_클릭횟수', '광고5_클릭횟수']\n",
    "광고별_남성_클릭횟수 = [20, 34, 30, 35, 27]\n",
    "광고별_여성_클릭횟수 = [25, 32, 34, 20, 25]"
   ]
  },
  {
   "cell_type": "raw",
   "metadata": {},
   "source": [
    "x = np.arange(len(X축_레이블))  # 레이블 위치\n",
    "print(x) # [0 1 2 3 4 5]\n",
    "width = 0.35  # bar 차트 크기 설정\n",
    "\n",
    "fig, ax = plt.subplots()\n",
    "fig.set_size_inches(12, 5)\n",
    "rects1 = ax.bar(x - width/2, 광고별_남성_클릭횟수, width, label='남자')\n",
    "rects2 = ax.bar(x + width/2, 광고별_여성_클릭횟수, width, label='여자')\n",
    "\n",
    "# Add some text for labels, title and custom x-axis tick labels, etc.\n",
    "ax.set_ylabel('클릭횟수') # Y축 레이블 설정\n",
    "ax.set_title('광고별 남녀 클릭횟수 분석') # 그래프 제목 설정\n",
    "ax.set_xticks(x)  # X 축데이터 설정\n",
    "ax.set_xticklabels(X축_레이블) # X축 레이블 설정\n",
    "ax.legend() # 범례 설정\n",
    "\n",
    "plt.savefig('./광고별_남녀_클릭횟수_분석.png') # 그래프 출력결과를 파일로 저장합니다.\n",
    "\n",
    "plt.show() # 그래프 출력"
   ]
  },
  {
   "cell_type": "code",
   "execution_count": 14,
   "metadata": {},
   "outputs": [
    {
     "name": "stdout",
     "output_type": "stream",
     "text": [
      "[0 1 2 3 4]\n"
     ]
    },
    {
     "data": {
      "image/png": "[encoded data removed]",
      "text/plain": [
       "<Figure size 864x360 with 1 Axes>"
      ]
     },
     "metadata": {
      "image/png": {
       "height": 321,
       "width": 724
      },
      "needs_background": "light"
     },
     "output_type": "display_data"
    }
   ],
   "source": [
    "x = np.arange(len(x축_레이블)) # 레이블 위치 \n",
    "print(x) # [0 1 2 3 4 5]\n",
    "width = 0.35  # bar 차트 크기 설정\n",
    "\n",
    "fig, ax = plt.subplots()\n",
    "fig.set_size_inches(12, 5)\n",
    "rects1 = ax.bar(x - width/2, 광고별_남성_클릭횟수, width, label='남자')\n",
    "rects2 = ax.bar(x + width/2, 광고별_여성_클릭횟수, width, label='여자')\n",
    "\n",
    "# Add some text for labels, title and custom x-axis tick labels, etc.\n",
    "ax.set_ylabel('클릭회수') # Y축 레이블 설정\n",
    "ax.set_title('광고별 남녀 클릭횟수 분석') # 그래프 제목 설정 \n",
    "ax.set_xticks(x) # x 축 데이터 설정 \n",
    "ax.set_xticklabels(x축_레이블) # x축 레이블 설정 \n",
    "ax.legend() # 범례 설정 \n",
    "\n",
    "plt.savefig('data/광고별_남녀_클릭횟수_분석.png') # 그래프 출력결과를 파일로 저장합니다.\n",
    "\n",
    "plt.show() # 그래프 출력 "
   ]
  },
  {
   "cell_type": "raw",
   "metadata": {},
   "source": [
    "X축_데이터 = [170, 182, 155, 160, 163] # 키\n",
    "Y축_데이터 = [60, 71, 49, 53, 56]      # 몸무게\n",
    "\n",
    "plt.scatter(X축_데이터, Y축_데이터)\n",
    "plt.xlabel('키')\n",
    "plt.ylabel('몸무게')\n",
    "\n",
    "plt.show()"
   ]
  },
  {
   "cell_type": "code",
   "execution_count": 15,
   "metadata": {},
   "outputs": [
    {
     "data": {
      "image/png": "[encoded data removed]",
      "text/plain": [
       "<Figure size 432x288 with 1 Axes>"
      ]
     },
     "metadata": {
      "image/png": {
       "height": 267,
       "width": 389
      },
      "needs_background": "light"
     },
     "output_type": "display_data"
    }
   ],
   "source": [
    "x축_데이터 = [170, 182, 155, 160, 163] # 키\n",
    "y축_데이터 = [60, 71, 49, 53, 56] # 몸무게\n",
    "\n",
    "plt.scatter(x축_데이터, y축_데이터)\n",
    "plt.xlabel('키')\n",
    "plt.ylabel('몸무게')\n",
    "\n",
    "plt.show()"
   ]
  },
  {
   "cell_type": "markdown",
   "metadata": {},
   "source": [
    "# 실습 3 - 응용문제 1번 - 순차적으로 변화하는 값을 꺽은선 그래프로 출력해보기"
   ]
  },
  {
   "cell_type": "markdown",
   "metadata": {},
   "source": [
    "1. **코로나_날짜_리스트**라는 리스트를 생성하고 \n",
    "'2020-10-01', '2020-10-02', '2020-10-03', '2020-10-04', '2020-10-05' 5개 값을 추가합니다.\n",
    "2. **날짜별_환자_리스트**라는 리스트를 생성하고\n",
    "'47', '63', '78', '91', '102' 5개 값을 추가합니다.\n",
    "3. plt.title() 함수를 이용해서 '일자별 코로나 확진자수 변화'라는 제목을 지정합니다.\n",
    "4. plt.plot() 함수를 이용해서 꺽은선 그래프를 만들고 '코로나 확진자수'라는 label을 지정합니다.\n",
    "5. plt.legend() 함수를 이용해서 범례를 설정합니다.\n",
    "6. plt.savefig() 함수를 이용해서 '일자별_코로나_확진자수_변화.png'라는 파일로 그래프 출력결과를 저장합니다.\n",
    "7. plt.show() 함수를 이용해서 그래프의 결과를 출력합니다."
   ]
  },
  {
   "cell_type": "code",
   "execution_count": 21,
   "metadata": {},
   "outputs": [
    {
     "data": {
      "image/png": "[encoded data removed]",
      "text/plain": [
       "<Figure size 432x288 with 1 Axes>"
      ]
     },
     "metadata": {
      "image/png": {
       "height": 267,
       "width": 401
      },
      "needs_background": "light"
     },
     "output_type": "display_data"
    }
   ],
   "source": [
    "# 위 과정을 직접 코딩으로 작성해봅시다!\n",
    "\n",
    "# 리스트 생성 \n",
    "코로나_날짜_리스트 = [\"2020-10-01\", \"2020-10-02\", \"2020-10-03\", \"2020-10-04\", \"2020-10-05\"]\n",
    "날짜별_환자_리스트 = [\"47\", \"63\", \"78\", \"91\", \"102\"]\n",
    "\n",
    "# 그래프 그리기 \n",
    "plt.title(\"일자별 코로나 확진자수 변화\")\n",
    "plt.plot(코로나_날짜_리스트, 날짜별_환자_리스트, label=\"코로나_확진자수\")\n",
    "plt.legend()\n",
    "plt.savefig(\"나이별_주간앱_체류시간_변화.png\")\n",
    "plt.show()"
   ]
  },
  {
   "cell_type": "markdown",
   "metadata": {},
   "source": [
    "# 실습 3 - 응용문제 2번 - 2개의 값의 연관관계를 산점도 차트로 그려보기"
   ]
  },
  {
   "cell_type": "markdown",
   "metadata": {},
   "source": [
    "1. **나이_리스트**라는 리스트를 생성하고 '25', '28', '35', '43', '55' 5개의 값을 추가합니다.\n",
    "2. **주간앱_체류시간**이라는 리스트를 생성하고 32, 29, 31, 14, 13 5개의 값을 추가합니다.\n",
    "3. plt.scatter() 함수를 이용해서 **나이_리스트**, **주간앱_체류시간**을 산점도 차트로 그려봅니다.\n",
    "4. plt.xlabel() 함수를 이용해서 X축 레이블을 '나이'로 지정합니다.\n",
    "5. plt.ylabel() 함수를 이용해서 Y축 레이블을 '주간앱_체류시간'으로 지정합니다.\n",
    "6. plt.savefig() 함수를 이용해서 '나이별_주간앱_체류시간_변화.png'라는 파일로 그래프 출력결과를 저장합니다.\n",
    "7. plt.show() 함수를 이용해서 그래프를 출력합니다."
   ]
  },
  {
   "cell_type": "code",
   "execution_count": 22,
   "metadata": {},
   "outputs": [
    {
     "data": {
      "image/png": "[encoded data removed]",
      "text/plain": [
       "<Figure size 432x288 with 1 Axes>"
      ]
     },
     "metadata": {
      "image/png": {
       "height": 267,
       "width": 400
      },
      "needs_background": "light"
     },
     "output_type": "display_data"
    }
   ],
   "source": [
    "# 위 과정을 직접 코딩으로 작성해봅시다!\n",
    "\n",
    "# 리스트 생성\n",
    "나이_리스트 = ['25', '28', '35', '43', '55']  # 나이\n",
    "주간앱_체류시간 = [32, 29, 31, 14, 13]  # 체류시간\n",
    "\n",
    "plt.scatter(나이_리스트, 주간앱_체류시간)\n",
    "plt.xlabel(\"나이\")\n",
    "plt.ylabel(\"주간앱_체류시간\")\n",
    "plt.savefig(\"data/나이별_주간앱_체류시간_변화.png\")\n",
    "plt.show()"
   ]
  },
  {
   "cell_type": "markdown",
   "metadata": {},
   "source": [
    "# 이후 강의 데이터 미리 맛보기!"
   ]
  },
  {
   "cell_type": "code",
   "execution_count": 103,
   "metadata": {},
   "outputs": [
    {
     "data": {
      "text/html": [
       "<div>\n",
       "<style scoped>\n",
       "    .dataframe tbody tr th:only-of-type {\n",
       "        vertical-align: middle;\n",
       "    }\n",
       "\n",
       "    .dataframe tbody tr th {\n",
       "        vertical-align: top;\n",
       "    }\n",
       "\n",
       "    .dataframe thead th {\n",
       "        text-align: right;\n",
       "    }\n",
       "</style>\n",
       "<table border=\"1\" class=\"dataframe\">\n",
       "  <thead>\n",
       "    <tr style=\"text-align: right;\">\n",
       "      <th></th>\n",
       "      <th>2018-06-01</th>\n",
       "      <th>2018-06-04</th>\n",
       "      <th>2018-06-05</th>\n",
       "      <th>2018-06-07</th>\n",
       "      <th>2018-06-08</th>\n",
       "      <th>2018-06-11</th>\n",
       "      <th>2018-06-12</th>\n",
       "      <th>2018-06-14</th>\n",
       "      <th>2018-06-15</th>\n",
       "      <th>2018-06-18</th>\n",
       "      <th>...</th>\n",
       "      <th>2020-09-07</th>\n",
       "      <th>2020-09-08</th>\n",
       "      <th>2020-09-09</th>\n",
       "      <th>2020-09-10</th>\n",
       "      <th>2020-09-11</th>\n",
       "      <th>2020-09-14</th>\n",
       "      <th>2020-09-15</th>\n",
       "      <th>2020-09-16</th>\n",
       "      <th>2020-09-17</th>\n",
       "      <th>2020-09-18</th>\n",
       "    </tr>\n",
       "    <tr>\n",
       "      <th>Symbol</th>\n",
       "      <th></th>\n",
       "      <th></th>\n",
       "      <th></th>\n",
       "      <th></th>\n",
       "      <th></th>\n",
       "      <th></th>\n",
       "      <th></th>\n",
       "      <th></th>\n",
       "      <th></th>\n",
       "      <th></th>\n",
       "      <th></th>\n",
       "      <th></th>\n",
       "      <th></th>\n",
       "      <th></th>\n",
       "      <th></th>\n",
       "      <th></th>\n",
       "      <th></th>\n",
       "      <th></th>\n",
       "      <th></th>\n",
       "      <th></th>\n",
       "      <th></th>\n",
       "    </tr>\n",
       "  </thead>\n",
       "  <tbody>\n",
       "    <tr>\n",
       "      <th>A000020</th>\n",
       "      <td>11550.0</td>\n",
       "      <td>11750.0</td>\n",
       "      <td>11700.0</td>\n",
       "      <td>11650.0</td>\n",
       "      <td>11500.0</td>\n",
       "      <td>11500.0</td>\n",
       "      <td>11650.0</td>\n",
       "      <td>12000.0</td>\n",
       "      <td>11800.0</td>\n",
       "      <td>11450.0</td>\n",
       "      <td>...</td>\n",
       "      <td>25550.0</td>\n",
       "      <td>23650.0</td>\n",
       "      <td>24550.0</td>\n",
       "      <td>25950.0</td>\n",
       "      <td>26750.0</td>\n",
       "      <td>26300.0</td>\n",
       "      <td>25400.0</td>\n",
       "      <td>25050.0</td>\n",
       "      <td>25300.0</td>\n",
       "      <td>25050.0</td>\n",
       "    </tr>\n",
       "    <tr>\n",
       "      <th>A000030</th>\n",
       "      <td>15500.0</td>\n",
       "      <td>15950.0</td>\n",
       "      <td>16050.0</td>\n",
       "      <td>16500.0</td>\n",
       "      <td>16600.0</td>\n",
       "      <td>16650.0</td>\n",
       "      <td>16850.0</td>\n",
       "      <td>16500.0</td>\n",
       "      <td>16100.0</td>\n",
       "      <td>16350.0</td>\n",
       "      <td>...</td>\n",
       "      <td>14800.0</td>\n",
       "      <td>14800.0</td>\n",
       "      <td>14800.0</td>\n",
       "      <td>14800.0</td>\n",
       "      <td>14800.0</td>\n",
       "      <td>14800.0</td>\n",
       "      <td>14800.0</td>\n",
       "      <td>14800.0</td>\n",
       "      <td>14800.0</td>\n",
       "      <td>14800.0</td>\n",
       "    </tr>\n",
       "    <tr>\n",
       "      <th>A000040</th>\n",
       "      <td>2992.0</td>\n",
       "      <td>3021.0</td>\n",
       "      <td>3025.0</td>\n",
       "      <td>3069.0</td>\n",
       "      <td>3045.0</td>\n",
       "      <td>2984.0</td>\n",
       "      <td>2976.0</td>\n",
       "      <td>3033.0</td>\n",
       "      <td>3033.0</td>\n",
       "      <td>3017.0</td>\n",
       "      <td>...</td>\n",
       "      <td>980.0</td>\n",
       "      <td>932.0</td>\n",
       "      <td>741.0</td>\n",
       "      <td>875.0</td>\n",
       "      <td>840.0</td>\n",
       "      <td>860.0</td>\n",
       "      <td>833.0</td>\n",
       "      <td>817.0</td>\n",
       "      <td>812.0</td>\n",
       "      <td>796.0</td>\n",
       "    </tr>\n",
       "    <tr>\n",
       "      <th>A000050</th>\n",
       "      <td>13200.0</td>\n",
       "      <td>13550.0</td>\n",
       "      <td>13600.0</td>\n",
       "      <td>13800.0</td>\n",
       "      <td>13800.0</td>\n",
       "      <td>13800.0</td>\n",
       "      <td>13650.0</td>\n",
       "      <td>13850.0</td>\n",
       "      <td>14500.0</td>\n",
       "      <td>14550.0</td>\n",
       "      <td>...</td>\n",
       "      <td>11100.0</td>\n",
       "      <td>11350.0</td>\n",
       "      <td>11550.0</td>\n",
       "      <td>11500.0</td>\n",
       "      <td>11550.0</td>\n",
       "      <td>11300.0</td>\n",
       "      <td>11300.0</td>\n",
       "      <td>11050.0</td>\n",
       "      <td>10900.0</td>\n",
       "      <td>10750.0</td>\n",
       "    </tr>\n",
       "    <tr>\n",
       "      <th>A000060</th>\n",
       "      <td>20050.0</td>\n",
       "      <td>20050.0</td>\n",
       "      <td>20150.0</td>\n",
       "      <td>20050.0</td>\n",
       "      <td>20400.0</td>\n",
       "      <td>20150.0</td>\n",
       "      <td>20700.0</td>\n",
       "      <td>20950.0</td>\n",
       "      <td>20150.0</td>\n",
       "      <td>20900.0</td>\n",
       "      <td>...</td>\n",
       "      <td>12700.0</td>\n",
       "      <td>12700.0</td>\n",
       "      <td>12650.0</td>\n",
       "      <td>12700.0</td>\n",
       "      <td>12800.0</td>\n",
       "      <td>13000.0</td>\n",
       "      <td>13200.0</td>\n",
       "      <td>13150.0</td>\n",
       "      <td>13150.0</td>\n",
       "      <td>13200.0</td>\n",
       "    </tr>\n",
       "  </tbody>\n",
       "</table>\n",
       "<p>5 rows × 568 columns</p>\n",
       "</div>"
      ],
      "text/plain": [
       "         2018-06-01  2018-06-04  2018-06-05  2018-06-07  2018-06-08  \\\n",
       "Symbol                                                                \n",
       "A000020     11550.0     11750.0     11700.0     11650.0     11500.0   \n",
       "A000030     15500.0     15950.0     16050.0     16500.0     16600.0   \n",
       "A000040      2992.0      3021.0      3025.0      3069.0      3045.0   \n",
       "A000050     13200.0     13550.0     13600.0     13800.0     13800.0   \n",
       "A000060     20050.0     20050.0     20150.0     20050.0     20400.0   \n",
       "\n",
       "         2018-06-11  2018-06-12  2018-06-14  2018-06-15  2018-06-18  ...  \\\n",
       "Symbol                                                               ...   \n",
       "A000020     11500.0     11650.0     12000.0     11800.0     11450.0  ...   \n",
       "A000030     16650.0     16850.0     16500.0     16100.0     16350.0  ...   \n",
       "A000040      2984.0      2976.0      3033.0      3033.0      3017.0  ...   \n",
       "A000050     13800.0     13650.0     13850.0     14500.0     14550.0  ...   \n",
       "A000060     20150.0     20700.0     20950.0     20150.0     20900.0  ...   \n",
       "\n",
       "         2020-09-07  2020-09-08  2020-09-09  2020-09-10  2020-09-11  \\\n",
       "Symbol                                                                \n",
       "A000020     25550.0     23650.0     24550.0     25950.0     26750.0   \n",
       "A000030     14800.0     14800.0     14800.0     14800.0     14800.0   \n",
       "A000040       980.0       932.0       741.0       875.0       840.0   \n",
       "A000050     11100.0     11350.0     11550.0     11500.0     11550.0   \n",
       "A000060     12700.0     12700.0     12650.0     12700.0     12800.0   \n",
       "\n",
       "         2020-09-14  2020-09-15  2020-09-16  2020-09-17  2020-09-18  \n",
       "Symbol                                                               \n",
       "A000020     26300.0     25400.0     25050.0     25300.0     25050.0  \n",
       "A000030     14800.0     14800.0     14800.0     14800.0     14800.0  \n",
       "A000040       860.0       833.0       817.0       812.0       796.0  \n",
       "A000050     11300.0     11300.0     11050.0     10900.0     10750.0  \n",
       "A000060     13000.0     13200.0     13150.0     13150.0     13200.0  \n",
       "\n",
       "[5 rows x 568 columns]"
      ]
     },
     "execution_count": 103,
     "metadata": {},
     "output_type": "execute_result"
    }
   ],
   "source": [
    "import pandas as pd\n",
    "from matplotlib import pyplot as plt\n",
    "\n",
    "d = dict()\n",
    "for key in 'adj_close,itemname,sales'.split(','):\n",
    "    d[key] = pd.read_csv(f'stock.{key}.csv', encoding='cp949', index_col=0)\n",
    "    try:\n",
    "        d[key].columns = pd.to_datetime(d[key].columns)\n",
    "    except:\n",
    "        pass\n",
    "    \n",
    "주가_df = d['adj_close']\n",
    "주가_df.head()"
   ]
  },
  {
   "cell_type": "code",
   "execution_count": 104,
   "metadata": {},
   "outputs": [
    {
     "data": {
      "text/plain": [
       "[<matplotlib.lines.Line2D at 0x117605590>]"
      ]
     },
     "execution_count": 104,
     "metadata": {},
     "output_type": "execute_result"
    },
    {
     "data": {
      "image/png": "[encoded data removed]",
      "text/plain": [
       "<Figure size 432x288 with 1 Axes>"
      ]
     },
     "metadata": {
      "needs_background": "light"
     },
     "output_type": "display_data"
    }
   ],
   "source": [
    "# A005380 : 현대차 종목코드\n",
    "주가_리스트 = 주가_df.loc['A005380',]\n",
    "plt.plot(주가_리스트)"
   ]
  },
  {
   "cell_type": "code",
   "execution_count": 105,
   "metadata": {},
   "outputs": [
    {
     "data": {
      "text/html": [
       "<div>\n",
       "<style scoped>\n",
       "    .dataframe tbody tr th:only-of-type {\n",
       "        vertical-align: middle;\n",
       "    }\n",
       "\n",
       "    .dataframe tbody tr th {\n",
       "        vertical-align: top;\n",
       "    }\n",
       "\n",
       "    .dataframe thead th {\n",
       "        text-align: right;\n",
       "    }\n",
       "</style>\n",
       "<table border=\"1\" class=\"dataframe\">\n",
       "  <thead>\n",
       "    <tr style=\"text-align: right;\">\n",
       "      <th></th>\n",
       "      <th>2018-06-01</th>\n",
       "      <th>2018-06-04</th>\n",
       "      <th>2018-06-05</th>\n",
       "      <th>2018-06-07</th>\n",
       "      <th>2018-06-08</th>\n",
       "      <th>2018-06-11</th>\n",
       "      <th>2018-06-12</th>\n",
       "      <th>2018-06-14</th>\n",
       "      <th>2018-06-15</th>\n",
       "      <th>2018-06-18</th>\n",
       "      <th>...</th>\n",
       "      <th>2020-09-07</th>\n",
       "      <th>2020-09-08</th>\n",
       "      <th>2020-09-09</th>\n",
       "      <th>2020-09-10</th>\n",
       "      <th>2020-09-11</th>\n",
       "      <th>2020-09-14</th>\n",
       "      <th>2020-09-15</th>\n",
       "      <th>2020-09-16</th>\n",
       "      <th>2020-09-17</th>\n",
       "      <th>2020-09-18</th>\n",
       "    </tr>\n",
       "    <tr>\n",
       "      <th>Symbol</th>\n",
       "      <th></th>\n",
       "      <th></th>\n",
       "      <th></th>\n",
       "      <th></th>\n",
       "      <th></th>\n",
       "      <th></th>\n",
       "      <th></th>\n",
       "      <th></th>\n",
       "      <th></th>\n",
       "      <th></th>\n",
       "      <th></th>\n",
       "      <th></th>\n",
       "      <th></th>\n",
       "      <th></th>\n",
       "      <th></th>\n",
       "      <th></th>\n",
       "      <th></th>\n",
       "      <th></th>\n",
       "      <th></th>\n",
       "      <th></th>\n",
       "      <th></th>\n",
       "    </tr>\n",
       "  </thead>\n",
       "  <tbody>\n",
       "    <tr>\n",
       "      <th>A000020</th>\n",
       "      <td>7.696418e+04</td>\n",
       "      <td>7.696418e+04</td>\n",
       "      <td>7.696418e+04</td>\n",
       "      <td>7.696418e+04</td>\n",
       "      <td>7.696418e+04</td>\n",
       "      <td>7.696418e+04</td>\n",
       "      <td>7.696418e+04</td>\n",
       "      <td>7.696418e+04</td>\n",
       "      <td>7.696418e+04</td>\n",
       "      <td>7.696418e+04</td>\n",
       "      <td>...</td>\n",
       "      <td>6.983330e+04</td>\n",
       "      <td>6.983330e+04</td>\n",
       "      <td>6.983330e+04</td>\n",
       "      <td>6.983330e+04</td>\n",
       "      <td>6.983330e+04</td>\n",
       "      <td>6.983330e+04</td>\n",
       "      <td>6.983330e+04</td>\n",
       "      <td>6.983330e+04</td>\n",
       "      <td>6.983330e+04</td>\n",
       "      <td>6.983330e+04</td>\n",
       "    </tr>\n",
       "    <tr>\n",
       "      <th>A000030</th>\n",
       "      <td>2.274747e+06</td>\n",
       "      <td>2.274747e+06</td>\n",
       "      <td>2.274747e+06</td>\n",
       "      <td>2.274747e+06</td>\n",
       "      <td>2.274747e+06</td>\n",
       "      <td>2.274747e+06</td>\n",
       "      <td>2.274747e+06</td>\n",
       "      <td>2.274747e+06</td>\n",
       "      <td>2.274747e+06</td>\n",
       "      <td>2.274747e+06</td>\n",
       "      <td>...</td>\n",
       "      <td>2.476774e+06</td>\n",
       "      <td>2.476774e+06</td>\n",
       "      <td>2.476774e+06</td>\n",
       "      <td>2.476774e+06</td>\n",
       "      <td>2.476774e+06</td>\n",
       "      <td>2.476774e+06</td>\n",
       "      <td>2.476774e+06</td>\n",
       "      <td>2.476774e+06</td>\n",
       "      <td>2.476774e+06</td>\n",
       "      <td>2.476774e+06</td>\n",
       "    </tr>\n",
       "    <tr>\n",
       "      <th>A000040</th>\n",
       "      <td>3.301091e+03</td>\n",
       "      <td>3.301091e+03</td>\n",
       "      <td>3.301091e+03</td>\n",
       "      <td>3.301091e+03</td>\n",
       "      <td>3.301091e+03</td>\n",
       "      <td>3.301091e+03</td>\n",
       "      <td>3.301091e+03</td>\n",
       "      <td>3.301091e+03</td>\n",
       "      <td>3.301091e+03</td>\n",
       "      <td>3.301091e+03</td>\n",
       "      <td>...</td>\n",
       "      <td>3.120514e+04</td>\n",
       "      <td>3.120514e+04</td>\n",
       "      <td>3.120514e+04</td>\n",
       "      <td>3.120514e+04</td>\n",
       "      <td>3.120514e+04</td>\n",
       "      <td>3.120514e+04</td>\n",
       "      <td>3.120514e+04</td>\n",
       "      <td>3.120514e+04</td>\n",
       "      <td>3.120514e+04</td>\n",
       "      <td>3.120514e+04</td>\n",
       "    </tr>\n",
       "    <tr>\n",
       "      <th>A000050</th>\n",
       "      <td>8.181499e+04</td>\n",
       "      <td>8.181499e+04</td>\n",
       "      <td>8.181499e+04</td>\n",
       "      <td>8.181499e+04</td>\n",
       "      <td>8.181499e+04</td>\n",
       "      <td>8.181499e+04</td>\n",
       "      <td>8.181499e+04</td>\n",
       "      <td>8.181499e+04</td>\n",
       "      <td>8.181499e+04</td>\n",
       "      <td>8.181499e+04</td>\n",
       "      <td>...</td>\n",
       "      <td>8.620966e+04</td>\n",
       "      <td>8.620966e+04</td>\n",
       "      <td>8.620966e+04</td>\n",
       "      <td>8.620966e+04</td>\n",
       "      <td>8.620966e+04</td>\n",
       "      <td>8.620966e+04</td>\n",
       "      <td>8.620966e+04</td>\n",
       "      <td>8.620966e+04</td>\n",
       "      <td>8.620966e+04</td>\n",
       "      <td>8.620966e+04</td>\n",
       "    </tr>\n",
       "    <tr>\n",
       "      <th>A000060</th>\n",
       "      <td>1.704241e+06</td>\n",
       "      <td>1.704241e+06</td>\n",
       "      <td>1.704241e+06</td>\n",
       "      <td>1.704241e+06</td>\n",
       "      <td>1.704241e+06</td>\n",
       "      <td>1.704241e+06</td>\n",
       "      <td>1.704241e+06</td>\n",
       "      <td>1.704241e+06</td>\n",
       "      <td>1.704241e+06</td>\n",
       "      <td>1.704241e+06</td>\n",
       "      <td>...</td>\n",
       "      <td>2.231184e+06</td>\n",
       "      <td>2.231184e+06</td>\n",
       "      <td>2.231184e+06</td>\n",
       "      <td>2.231184e+06</td>\n",
       "      <td>2.231184e+06</td>\n",
       "      <td>2.231184e+06</td>\n",
       "      <td>2.231184e+06</td>\n",
       "      <td>2.231184e+06</td>\n",
       "      <td>2.231184e+06</td>\n",
       "      <td>2.231184e+06</td>\n",
       "    </tr>\n",
       "  </tbody>\n",
       "</table>\n",
       "<p>5 rows × 568 columns</p>\n",
       "</div>"
      ],
      "text/plain": [
       "           2018-06-01    2018-06-04    2018-06-05    2018-06-07    2018-06-08  \\\n",
       "Symbol                                                                          \n",
       "A000020  7.696418e+04  7.696418e+04  7.696418e+04  7.696418e+04  7.696418e+04   \n",
       "A000030  2.274747e+06  2.274747e+06  2.274747e+06  2.274747e+06  2.274747e+06   \n",
       "A000040  3.301091e+03  3.301091e+03  3.301091e+03  3.301091e+03  3.301091e+03   \n",
       "A000050  8.181499e+04  8.181499e+04  8.181499e+04  8.181499e+04  8.181499e+04   \n",
       "A000060  1.704241e+06  1.704241e+06  1.704241e+06  1.704241e+06  1.704241e+06   \n",
       "\n",
       "           2018-06-11    2018-06-12    2018-06-14    2018-06-15    2018-06-18  \\\n",
       "Symbol                                                                          \n",
       "A000020  7.696418e+04  7.696418e+04  7.696418e+04  7.696418e+04  7.696418e+04   \n",
       "A000030  2.274747e+06  2.274747e+06  2.274747e+06  2.274747e+06  2.274747e+06   \n",
       "A000040  3.301091e+03  3.301091e+03  3.301091e+03  3.301091e+03  3.301091e+03   \n",
       "A000050  8.181499e+04  8.181499e+04  8.181499e+04  8.181499e+04  8.181499e+04   \n",
       "A000060  1.704241e+06  1.704241e+06  1.704241e+06  1.704241e+06  1.704241e+06   \n",
       "\n",
       "         ...    2020-09-07    2020-09-08    2020-09-09    2020-09-10  \\\n",
       "Symbol   ...                                                           \n",
       "A000020  ...  6.983330e+04  6.983330e+04  6.983330e+04  6.983330e+04   \n",
       "A000030  ...  2.476774e+06  2.476774e+06  2.476774e+06  2.476774e+06   \n",
       "A000040  ...  3.120514e+04  3.120514e+04  3.120514e+04  3.120514e+04   \n",
       "A000050  ...  8.620966e+04  8.620966e+04  8.620966e+04  8.620966e+04   \n",
       "A000060  ...  2.231184e+06  2.231184e+06  2.231184e+06  2.231184e+06   \n",
       "\n",
       "           2020-09-11    2020-09-14    2020-09-15    2020-09-16    2020-09-17  \\\n",
       "Symbol                                                                          \n",
       "A000020  6.983330e+04  6.983330e+04  6.983330e+04  6.983330e+04  6.983330e+04   \n",
       "A000030  2.476774e+06  2.476774e+06  2.476774e+06  2.476774e+06  2.476774e+06   \n",
       "A000040  3.120514e+04  3.120514e+04  3.120514e+04  3.120514e+04  3.120514e+04   \n",
       "A000050  8.620966e+04  8.620966e+04  8.620966e+04  8.620966e+04  8.620966e+04   \n",
       "A000060  2.231184e+06  2.231184e+06  2.231184e+06  2.231184e+06  2.231184e+06   \n",
       "\n",
       "           2020-09-18  \n",
       "Symbol                 \n",
       "A000020  6.983330e+04  \n",
       "A000030  2.476774e+06  \n",
       "A000040  3.120514e+04  \n",
       "A000050  8.620966e+04  \n",
       "A000060  2.231184e+06  \n",
       "\n",
       "[5 rows x 568 columns]"
      ]
     },
     "execution_count": 105,
     "metadata": {},
     "output_type": "execute_result"
    }
   ],
   "source": [
    "매출_df = d['sales']\n",
    "매출_리스트 = 매출_df.loc['A005380',]\n",
    "매출_df.head()"
   ]
  },
  {
   "cell_type": "code",
   "execution_count": 106,
   "metadata": {},
   "outputs": [
    {
     "data": {
      "text/html": [
       "<div>\n",
       "<style scoped>\n",
       "    .dataframe tbody tr th:only-of-type {\n",
       "        vertical-align: middle;\n",
       "    }\n",
       "\n",
       "    .dataframe tbody tr th {\n",
       "        vertical-align: top;\n",
       "    }\n",
       "\n",
       "    .dataframe thead th {\n",
       "        text-align: right;\n",
       "    }\n",
       "</style>\n",
       "<table border=\"1\" class=\"dataframe\">\n",
       "  <thead>\n",
       "    <tr style=\"text-align: right;\">\n",
       "      <th></th>\n",
       "      <th>itemname</th>\n",
       "    </tr>\n",
       "    <tr>\n",
       "      <th>item</th>\n",
       "      <th></th>\n",
       "    </tr>\n",
       "  </thead>\n",
       "  <tbody>\n",
       "    <tr>\n",
       "      <th>A000020</th>\n",
       "      <td>동화약품</td>\n",
       "    </tr>\n",
       "    <tr>\n",
       "      <th>A000030</th>\n",
       "      <td>우리은행</td>\n",
       "    </tr>\n",
       "    <tr>\n",
       "      <th>A000040</th>\n",
       "      <td>KR모터스</td>\n",
       "    </tr>\n",
       "    <tr>\n",
       "      <th>A000050</th>\n",
       "      <td>경방</td>\n",
       "    </tr>\n",
       "    <tr>\n",
       "      <th>A000060</th>\n",
       "      <td>메리츠화재</td>\n",
       "    </tr>\n",
       "  </tbody>\n",
       "</table>\n",
       "</div>"
      ],
      "text/plain": [
       "        itemname\n",
       "item            \n",
       "A000020     동화약품\n",
       "A000030     우리은행\n",
       "A000040    KR모터스\n",
       "A000050       경방\n",
       "A000060    메리츠화재"
      ]
     },
     "execution_count": 106,
     "metadata": {},
     "output_type": "execute_result"
    }
   ],
   "source": [
    "종목명_df = d['itemname']\n",
    "종목명_df.head()"
   ]
  },
  {
   "cell_type": "code",
   "execution_count": 107,
   "metadata": {},
   "outputs": [
    {
     "data": {
      "image/png": "[encoded data removed]",
      "text/plain": [
       "<Figure size 432x288 with 2 Axes>"
      ]
     },
     "metadata": {
      "needs_background": "light"
     },
     "output_type": "display_data"
    }
   ],
   "source": [
    "import seaborn as sns\n",
    "\n",
    "df = pd.read_csv(\"./KAG_conversion_data.csv\")\n",
    "\n",
    "'''\n",
    "Impressions : 광고가 노출된 횟수\n",
    "Clicks : 광고가 클릭된 횟수\n",
    "Spent : xyz가 해당 AD에 Facebook에 지출한 비용(paid)\n",
    "Total_Conversion : 광고를 본 후에 제품에 문의를 준 사람의 수\n",
    "Approved_Conversion : 광고를 본 후에 제품을 실제로 구매한 사람의 수\n",
    "'''\n",
    "g = sns.heatmap(df[[\"Impressions\",\"Clicks\",\"Spent\",\"Total_Conversion\",\"Approved_Conversion\"]].corr(),\n",
    "              annot = True,\n",
    "              fmt = \".2f\",\n",
    "              cmap = \"coolwarm\")"
   ]
  },
  {
   "cell_type": "code",
   "execution_count": 108,
   "metadata": {},
   "outputs": [
    {
     "data": {
      "image/png": "[encoded data removed]",
      "text/plain": [
       "<Figure size 432x288 with 1 Axes>"
      ]
     },
     "metadata": {
      "needs_background": "light"
     },
     "output_type": "display_data"
    }
   ],
   "source": [
    "# 한글 폰트 설정\n",
    "plt.rcParams['font.family'] = 'Malgun Gothic' # Windows용\n",
    "#plt.rcParams['font.family'] = 'AppleGothic' # Mac용\n",
    "\n",
    "# 나이를 기준으로한 캠페인별 전환율을 살펴봅니다.\n",
    "# xyz_campaign_id : XYZ 회사에서 부여한 각 AD의 캠페인 ID\n",
    "sns.barplot(x=df[\"xyz_campaign_id\"], y=df[\"Approved_Conversion\"], hue=df[\"age\"])\n",
    "plt.title(\"광고 캠페인별 / 나이대별 / 전환수 분석\")\n",
    "plt.show()"
   ]
  },
  {
   "cell_type": "code",
   "execution_count": 109,
   "metadata": {},
   "outputs": [
    {
     "data": {
      "image/png": "[encoded data removed]",
      "text/plain": [
       "<Figure size 432x288 with 1 Axes>"
      ]
     },
     "metadata": {
      "needs_background": "light"
     },
     "output_type": "display_data"
    }
   ],
   "source": [
    "# interest : 사용자의 Facebook 공개프로필에 기반해서 파악한 사용자의 관심사 code\n",
    "plt.scatter(df[\"interest\"], df[\"Approved_Conversion\"])\n",
    "plt.title(\"관심사와 전환수의 상관관계 분석\")\n",
    "plt.xlabel(\"관심사(Interest)\")\n",
    "plt.ylabel(\"전환수(Approved_Conversion)\")\n",
    "plt.show()"
   ]
  },
  {
   "cell_type": "code",
   "execution_count": null,
   "metadata": {},
   "outputs": [],
   "source": []
  }
 ],
 "metadata": {
  "kernelspec": {
   "display_name": "Python 3",
   "language": "python",
   "name": "python3"
  },
  "language_info": {
   "codemirror_mode": {
    "name": "ipython",
    "version": 3
   },
   "file_extension": ".py",
   "mimetype": "text/x-python",
   "name": "python",
   "nbconvert_exporter": "python",
   "pygments_lexer": "ipython3",
   "version": "3.8.5"
  }
 },
 "nbformat": 4,
 "nbformat_minor": 4
}
